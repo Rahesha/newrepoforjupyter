{
 "cells": [
  {
   "cell_type": "markdown",
   "id": "a67b2a6c-f505-4211-8b1c-9cf8df140dc7",
   "metadata": {},
   "source": [
    "# Data Science Tools and Ecosystem"
   ]
  },
  {
   "cell_type": "markdown",
   "id": "76a56094-3086-4805-85ec-33744a031aca",
   "metadata": {},
   "source": [
    "## Introduction\n",
    "### In this notebook, Data Science Tools and Notebooks are summarized."
   ]
  },
  {
   "cell_type": "markdown",
   "id": "76218a1a-bbb6-46bc-93c8-6e7f808e2153",
   "metadata": {},
   "source": [
    " ### __Objectives:__\n",
    " - List popular Data Science languages\n",
    " - List some Data Science libraries\n",
    " - List popular Data Science Tools\n",
    "   \n"
   ]
  },
  {
   "cell_type": "markdown",
   "id": "dbf82f93-cd9d-44b1-821d-d30342127447",
   "metadata": {},
   "source": [
    "## Data Science languages\n",
    "### Some of the popular languages that Data Scientists use are:\n",
    "1. R\n",
    "2. Python\n",
    "3. SQL\n",
    "4. Scala\n",
    "5. 5.Java\n",
    "6. C++\n",
    "7. Julia"
   ]
  },
  {
   "cell_type": "markdown",
   "id": "cc078479-63f1-4310-b9f4-5c9a4183774b",
   "metadata": {
    "jp-MarkdownHeadingCollapsed": true
   },
   "source": [
    "## Data Science Libraries\n",
    "### Some of the commonly used libraries by Data Scientists include:\n",
    "1. Pandas\n",
    "2. NumPy\n",
    "3. Matplotlib\n",
    "4. Seaborn\n",
    "5. Scikit-learn\n",
    "6. Keras\n",
    "7. TensorFlow \n"
   ]
  },
  {
   "cell_type": "markdown",
   "id": "3672298b-ea64-4d30-bed2-313ba59eaa09",
   "metadata": {},
   "source": [
    "## Data Science Tools\n",
    "\n",
    "| Data Science Tools |\n",
    "| ------------------ |\n",
    "| Jupyter Notebook   |\n",
    "| RStudio            |\n",
    "| GitHub             |"
   ]
  },
  {
   "cell_type": "markdown",
   "id": "b9386d1e-6182-4362-99e9-d578e36139a8",
   "metadata": {},
   "source": [
    "### Below are a few examples of evaluating arithmetic expressions in Python."
   ]
  },
  {
   "cell_type": "code",
   "execution_count": 24,
   "id": "1fb8f3d0-fb4c-42d7-80aa-6db841753838",
   "metadata": {},
   "outputs": [
    {
     "data": {
      "text/plain": [
       "17"
      ]
     },
     "execution_count": 24,
     "metadata": {},
     "output_type": "execute_result"
    }
   ],
   "source": [
    "# This is a simple arithmetic expression to multiply then add integers.\n",
    "(3 * 4) + 5\n"
   ]
  },
  {
   "cell_type": "code",
   "execution_count": 26,
   "id": "e2f1cbe0-24ac-4cc5-82f6-8c1e0c64b119",
   "metadata": {},
   "outputs": [
    {
     "name": "stdout",
     "output_type": "stream",
     "text": [
      "3.3333333333333335\n"
     ]
    }
   ],
   "source": [
    "# This will convert 200 minutes to hours by dividing by 60.\n",
    "min = 200\n",
    "result = min / 60\n",
    "print(result)\n"
   ]
  },
  {
   "cell_type": "markdown",
   "id": "0326179f-28cc-4f76-a6ad-f3f87964335a",
   "metadata": {},
   "source": [
    "## Author\n",
    "Rahesha Pahari"
   ]
  },
  {
   "cell_type": "code",
   "execution_count": null,
   "id": "27b44d42-9688-47d2-8a57-5234da98418b",
   "metadata": {},
   "outputs": [],
   "source": []
  }
 ],
 "metadata": {
  "kernelspec": {
   "display_name": "Python 3 (ipykernel)",
   "language": "python",
   "name": "python3"
  },
  "language_info": {
   "codemirror_mode": {
    "name": "ipython",
    "version": 3
   },
   "file_extension": ".py",
   "mimetype": "text/x-python",
   "name": "python",
   "nbconvert_exporter": "python",
   "pygments_lexer": "ipython3",
   "version": "3.12.4"
  }
 },
 "nbformat": 4,
 "nbformat_minor": 5
}
